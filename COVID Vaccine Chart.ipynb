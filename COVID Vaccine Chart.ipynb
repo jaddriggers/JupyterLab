{
 "cells": [
  {
   "cell_type": "code",
   "execution_count": 40,
   "metadata": {},
   "outputs": [],
   "source": [
    "#tutorial from https://towardsdatascience.com/visualizing-covid-19-vaccine-data-in-python-in-5-simple-steps-51bf5ab619c9\n",
    "#imports libraries\n",
    "import pyforest\n",
    "\n",
    "from datetime import timedelta\n",
    "from matplotlib.dates import DateFormatter, WeekdayLocator"
   ]
  },
  {
   "cell_type": "code",
   "execution_count": 4,
   "metadata": {
    "collapsed": true,
    "jupyter": {
     "outputs_hidden": true
    }
   },
   "outputs": [
    {
     "name": "stdout",
     "output_type": "stream",
     "text": [
      "import pandas as pd\n"
     ]
    },
    {
     "data": {
      "text/plain": [
       "['from sklearn.ensemble import RandomForestClassifier',\n",
       " 'import sklearn',\n",
       " 'import nltk',\n",
       " 'import tensorflow as tf',\n",
       " 'import matplotlib as mpl',\n",
       " 'import plotly.graph_objs as go',\n",
       " 'import dash',\n",
       " 'from sklearn.ensemble import GradientBoostingClassifier',\n",
       " 'import seaborn as sns',\n",
       " 'import numpy as np',\n",
       " 'import gensim',\n",
       " 'import lightgbm as lgb',\n",
       " 'from dask import dataframe as dd',\n",
       " 'import bokeh',\n",
       " 'import plotly.express as px',\n",
       " 'import re',\n",
       " 'import xgboost as xgb',\n",
       " 'from sklearn.preprocessing import OneHotEncoder',\n",
       " 'import altair as alt',\n",
       " 'from sklearn.ensemble import GradientBoostingRegressor',\n",
       " 'import keras',\n",
       " 'import spacy',\n",
       " 'from sklearn.model_selection import train_test_split',\n",
       " 'from openpyxl import load_workbook',\n",
       " 'import pickle',\n",
       " 'import matplotlib.pyplot as plt',\n",
       " 'import awswrangler as wr',\n",
       " 'from sklearn.manifold import TSNE',\n",
       " 'import plotly as py',\n",
       " 'from pyspark import SparkContext',\n",
       " 'import statistics',\n",
       " 'import os',\n",
       " 'from sklearn import svm',\n",
       " 'import pydot',\n",
       " 'import tqdm',\n",
       " 'from pathlib import Path',\n",
       " 'from sklearn.feature_extraction.text import TfidfVectorizer',\n",
       " 'import datetime as dt',\n",
       " 'import sys',\n",
       " 'from sklearn.ensemble import RandomForestRegressor',\n",
       " 'import glob']"
      ]
     },
     "execution_count": 4,
     "metadata": {},
     "output_type": "execute_result"
    }
   ],
   "source": [
    "#show all libraries in pyforest\n",
    "dir(pyforest)\n",
    "active_imports()\n",
    "lazy_imports()"
   ]
  },
  {
   "cell_type": "markdown",
   "metadata": {},
   "source": [
    "### 1-Loading our dataframe"
   ]
  },
  {
   "cell_type": "code",
   "execution_count": 35,
   "metadata": {},
   "outputs": [
    {
     "data": {
      "application/javascript": [
       "\n",
       "        if (window._pyforest_update_imports_cell) { window._pyforest_update_imports_cell('import pandas as pd\\nimport matplotlib.pyplot as plt'); }\n",
       "    "
      ],
      "text/plain": [
       "<IPython.core.display.Javascript object>"
      ]
     },
     "metadata": {},
     "output_type": "display_data"
    }
   ],
   "source": [
    "#load the data, letting Pandas know to only load a subset of columns ( date, location, total_vaccinations_per_hundred) and reading date as a datetime value.\n",
    "df = pd.read_csv('https://covid.ourworldindata.org/data/owid-covid-data.csv', \n",
    "    usecols=['date', 'location', 'total_vaccinations_per_hundred'], \n",
    "    parse_dates=['date'])\n",
    "\n",
    "#create a list that contains different countries. If you want your visualization to show other countries, just make sure they match what’s available in the dataframe.\n",
    "#You can find out the names of countries used in locations by using print(df['location'].unique())\n",
    "countries = ['United States', 'Germany', 'United Kingdom', 'Israel']\n",
    "df = df[df['location'].isin(countries)]"
   ]
  },
  {
   "cell_type": "code",
   "execution_count": null,
   "metadata": {},
   "outputs": [],
   "source": []
  },
  {
   "cell_type": "markdown",
   "metadata": {},
   "source": [
    "### 2-Summarizing our data"
   ]
  },
  {
   "cell_type": "code",
   "execution_count": 36,
   "metadata": {},
   "outputs": [
    {
     "data": {
      "application/javascript": [
       "\n",
       "        if (window._pyforest_update_imports_cell) { window._pyforest_update_imports_cell('import pandas as pd\\nimport matplotlib.pyplot as plt'); }\n",
       "    "
      ],
      "text/plain": [
       "<IPython.core.display.Javascript object>"
      ]
     },
     "metadata": {},
     "output_type": "display_data"
    }
   ],
   "source": [
    "pivot = pd.pivot_table(\n",
    "    data=df,  # What dataframe to use\n",
    "    index='date', # The \"rows\" of your dataframe\n",
    "    columns='location', # What values to show as columns\n",
    "    values='total_vaccinations_per_hundred', # What values to aggregate\n",
    "    aggfunc='mean', # How to aggregate data\n",
    "    )\n",
    "\n",
    "pivot = pivot.fillna(method='ffill') #fill in missing values"
   ]
  },
  {
   "cell_type": "code",
   "execution_count": null,
   "metadata": {},
   "outputs": [],
   "source": []
  },
  {
   "cell_type": "markdown",
   "metadata": {},
   "source": [
    "### 3-Creating our visualiztion"
   ]
  },
  {
   "cell_type": "code",
   "execution_count": 50,
   "metadata": {},
   "outputs": [],
   "source": [
    "\"\"\"\n",
    "We then use two dictionary comprehensions to assign all countries the color grey and the transparency of 0.75 except for the main_country, \n",
    "which is assigned a dark teal and no transparency.\n",
    "\n",
    "\"\"\"\n",
    "\n",
    "# Step 3: Set up key variables for the visualization\n",
    "main_country = 'United States'\n",
    "\n",
    "\n",
    "colors = {country:('grey' if country!= main_country else '#129583') for country in countries}\n",
    "alphas = {country:(0.75 if country!= main_country else 1.0) for country in countries}"
   ]
  },
  {
   "cell_type": "markdown",
   "metadata": {},
   "source": [
    "### 4-Plot all countries \n",
    "### 5- Configure Axes"
   ]
  },
  {
   "cell_type": "code",
   "execution_count": 56,
   "metadata": {},
   "outputs": [
    {
     "data": {
      "application/javascript": [
       "\n",
       "        if (window._pyforest_update_imports_cell) { window._pyforest_update_imports_cell('import pandas as pd\\nimport matplotlib.pyplot as plt'); }\n",
       "    "
      ],
      "text/plain": [
       "<IPython.core.display.Javascript object>"
      ]
     },
     "metadata": {},
     "output_type": "display_data"
    },
    {
     "data": {
      "application/javascript": [
       "\n",
       "        if (window._pyforest_update_imports_cell) { window._pyforest_update_imports_cell('import pandas as pd\\nimport matplotlib.pyplot as plt'); }\n",
       "    "
      ],
      "text/plain": [
       "<IPython.core.display.Javascript object>"
      ]
     },
     "metadata": {},
     "output_type": "display_data"
    },
    {
     "data": {
      "application/javascript": [
       "\n",
       "        if (window._pyforest_update_imports_cell) { window._pyforest_update_imports_cell('import pandas as pd\\nimport matplotlib.pyplot as plt'); }\n",
       "    "
      ],
      "text/plain": [
       "<IPython.core.display.Javascript object>"
      ]
     },
     "metadata": {},
     "output_type": "display_data"
    },
    {
     "data": {
      "application/javascript": [
       "\n",
       "        if (window._pyforest_update_imports_cell) { window._pyforest_update_imports_cell('import pandas as pd\\nimport matplotlib.pyplot as plt'); }\n",
       "    "
      ],
      "text/plain": [
       "<IPython.core.display.Javascript object>"
      ]
     },
     "metadata": {},
     "output_type": "display_data"
    },
    {
     "data": {
      "application/javascript": [
       "\n",
       "        if (window._pyforest_update_imports_cell) { window._pyforest_update_imports_cell('import pandas as pd\\nimport matplotlib.pyplot as plt'); }\n",
       "    "
      ],
      "text/plain": [
       "<IPython.core.display.Javascript object>"
      ]
     },
     "metadata": {},
     "output_type": "display_data"
    },
    {
     "data": {
      "application/javascript": [
       "\n",
       "        if (window._pyforest_update_imports_cell) { window._pyforest_update_imports_cell('import pandas as pd\\nimport matplotlib.pyplot as plt'); }\n",
       "    "
      ],
      "text/plain": [
       "<IPython.core.display.Javascript object>"
      ]
     },
     "metadata": {},
     "output_type": "display_data"
    },
    {
     "data": {
      "application/javascript": [
       "\n",
       "        if (window._pyforest_update_imports_cell) { window._pyforest_update_imports_cell('import pandas as pd\\nimport matplotlib.pyplot as plt'); }\n",
       "    "
      ],
      "text/plain": [
       "<IPython.core.display.Javascript object>"
      ]
     },
     "metadata": {},
     "output_type": "display_data"
    },
    {
     "data": {
      "application/javascript": [
       "\n",
       "        if (window._pyforest_update_imports_cell) { window._pyforest_update_imports_cell('import pandas as pd\\nimport matplotlib.pyplot as plt'); }\n",
       "    "
      ],
      "text/plain": [
       "<IPython.core.display.Javascript object>"
      ]
     },
     "metadata": {},
     "output_type": "display_data"
    },
    {
     "data": {
      "image/png": "[encoded data removed]",
      "text/plain": [
       "<Figure size 864x576 with 1 Axes>"
      ]
     },
     "metadata": {},
     "output_type": "display_data"
    }
   ],
   "source": [
    "\"\"\"\n",
    "We then loop over each country in our countries variable to plot each line individually. \n",
    "We use the index (our dates) as the x-values and the proportion of vaccinated people for y-values. \n",
    "We draw both the color and transparency from our dictionaries that we created in Step 3.\n",
    "\n",
    "\"\"\"\n",
    "\n",
    "\"\"\"\n",
    "We then add text to our plot to show the label of the country directly on the line. \n",
    "We use the timedelta function to add 2 days to the last value of our index to create a bit of buffer between the end of the line and where the text begins.\n",
    "Pass in the country’s name as the string to use and use the dictionaries to pass in color and transparency as we did to load in the lines themselves.\n",
    "\n",
    "\"\"\"\n",
    "\n",
    "fig, ax = plt.subplots(figsize=(12,8)) #instantiate a figure and an axis of size 12x8\n",
    "fig.patch.set_facecolor('#F5F5F5') #change background color to light grey\n",
    "ax.patch.set_facecolor('#F5F5F5') #change background color to light grey\n",
    "\n",
    "\n",
    "for country in countries:\n",
    "    ax.plot(\n",
    "        pivot.index, # What to use as your x-values\n",
    "        pivot[country], # What to use as your y-values\n",
    "        color=colors[country], # How to color your line\n",
    "        alpha=alphas[country] # What transparency to use for your line\n",
    "    )\n",
    "\n",
    "    ax.text(\n",
    "        x = pivot.index[-1] + timedelta(days=2), #Where to position your text relative to the x-axis\n",
    "        y = pivot[country].max(), # How high to position your text. Can use max func. for each country value since the proportion will only ever increase\n",
    "        color = colors[country], # What color to give your text\n",
    "        s = country, # What to write\n",
    "        alpha=alphas[country] # What transparency to use\n",
    "    )\n",
    "# Step 5: Configures axes\n",
    "## A) Format what shows up on axes and how it's displayed \n",
    "\n",
    "date_form = DateFormatter(\"%y-%m-%d\")\n",
    "ax.xaxis.set_major_locator(WeekdayLocator(byweekday=(0), interval=1))\n",
    "ax.xaxis.set_major_formatter(date_form)\n",
    "plt.xticks(rotation=45)\n",
    "plt.ylim(0,100)\n",
    "\n",
    "## B) Customizing axes and adding a grid\n",
    "ax.spines['top'].set_visible(False)\n",
    "ax.spines['right'].set_visible(False)\n",
    "ax.spines['bottom'].set_color('#3f3f3f')\n",
    "ax.spines['left'].set_color('#3f3f3f')\n",
    "ax.grid(alpha=0.1)\n",
    "\n",
    "## C) Adding a title and axis labels\n",
    "plt.ylabel('Total Vaccinations per 100 People', fontsize=12, alpha=0.9)\n",
    "plt.xlabel('Date', fontsize=12, alpha=0.9)\n",
    "plt.title('COVID-19 Vaccinations over Time', fontsize=18, weight='bold', alpha=0.9)\n",
    "\n",
    "\n",
    "# D) Celebrate!\n",
    "plt.savefig('vaccine')\n",
    "plt.show()\n",
    "\n"
   ]
  },
  {
   "cell_type": "code",
   "execution_count": 52,
   "metadata": {},
   "outputs": [
    {
     "data": {
      "application/javascript": [
       "\n",
       "        if (window._pyforest_update_imports_cell) { window._pyforest_update_imports_cell('import pandas as pd\\nimport matplotlib.pyplot as plt'); }\n",
       "    "
      ],
      "text/plain": [
       "<IPython.core.display.Javascript object>"
      ]
     },
     "metadata": {},
     "output_type": "display_data"
    },
    {
     "data": {
      "text/plain": [
       "<Figure size 432x288 with 0 Axes>"
      ]
     },
     "metadata": {},
     "output_type": "display_data"
    }
   ],
   "source": []
  },
  {
   "cell_type": "code",
   "execution_count": null,
   "metadata": {},
   "outputs": [],
   "source": []
  }
 ],
 "metadata": {
  "kernelspec": {
   "display_name": "Python 3",
   "language": "python",
   "name": "python3"
  },
  "language_info": {
   "codemirror_mode": {
    "name": "ipython",
    "version": 3
   },
   "file_extension": ".py",
   "mimetype": "text/x-python",
   "name": "python",
   "nbconvert_exporter": "python",
   "pygments_lexer": "ipython3",
   "version": "3.8.5"
  }
 },
 "nbformat": 4,
 "nbformat_minor": 4
}
